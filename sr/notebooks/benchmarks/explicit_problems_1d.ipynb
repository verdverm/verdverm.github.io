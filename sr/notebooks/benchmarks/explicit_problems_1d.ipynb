{
 "cells": [
  {
   "cell_type": "markdown",
   "metadata": {},
   "source": [
    "# Explicit 1D Benchmarks\n",
    "\n",
    "This file demonstrates how to generate, plot, and output data for 1d benchmarks\n",
    "\n",
    "Choose from:\n",
    "\n",
    "1. Koza_01\n",
    "1. Koza_02\n",
    "1. Koza_03\n",
    "1. Lipson_01\n",
    "1. Lipson_02\n",
    "1. Lipson_03\n",
    "1. Nguyen_01\n",
    "1. Nguyen_02\n",
    "1. Nguyen_03\n",
    "1. Nguyen_04\n",
    "1. Nguyen_05\n",
    "1. Nguyen_06\n",
    "1. Nguyen_07\n",
    "1. Nguyen_08\n"
   ]
  },
  {
   "cell_type": "markdown",
   "metadata": {},
   "source": [
    "### Imports"
   ]
  },
  {
   "cell_type": "code",
   "execution_count": null,
   "metadata": {
    "collapsed": false
   },
   "outputs": [],
   "source": [
    "from pypge.benchmarks import explicit\n",
    "\n",
    "import numpy as np\n",
    "\n",
    "# visualization libraries\n",
    "import matplotlib.pyplot as plt\n",
    "from mpl_toolkits.mplot3d import Axes3D\n",
    "\n",
    "# plot the visuals in ipython\n",
    "%matplotlib inline\n"
   ]
  },
  {
   "cell_type": "markdown",
   "metadata": {},
   "source": [
    "### Generate the data with noise"
   ]
  },
  {
   "cell_type": "code",
   "execution_count": null,
   "metadata": {
    "collapsed": false
   },
   "outputs": [],
   "source": [
    "# choose your problem here\n",
    "prob = explicit.Koza_01()\n",
    "\n",
    "# you can also specify the following params as keyword arguments\n",
    "#\n",
    "# params = {\n",
    "#     'name': \"Koza_01\",\n",
    "#     'xs_str': [\"x\"],\n",
    "#     'eqn_str': \"x**4 + x**3 + x**2 + x\",\n",
    "#     'xs_params': [ (-4.0,4.0) ],\n",
    "#     'npts': 200,\n",
    "#     'noise': 0.1\n",
    "# }\n",
    "\n",
    "# or make your own with the following\n",
    "#\n",
    "# explicit.Explicit_1D(params):\n"
   ]
  },
  {
   "cell_type": "markdown",
   "metadata": {},
   "source": [
    "### Plot inline and save image"
   ]
  },
  {
   "cell_type": "code",
   "execution_count": null,
   "metadata": {
    "collapsed": false
   },
   "outputs": [],
   "source": [
    "print prob['name'], prob['eqn']\n",
    "print prob['xpts'].shape\n",
    "\n",
    "fig = plt.figure()\n",
    "fig.set_size_inches(16, 12)\n",
    "\n",
    "plt.plot(prob['xpts'][0], prob['ypure'], 'r.')\n",
    "plt.legend(loc='center left', bbox_to_anchor=(0.67, 0.12))\n",
    "\n",
    "plt.title(prob['name'] + \" Clean\", fontsize=36)\n",
    "plt.savefig(\"img/benchmarks/\" + prob['name'].lower() + \"_clean.png\", dpi=200)\n",
    "# plt.show()\n",
    "\n",
    "### You can only do one of 'savefig()' or 'show()'\n",
    "\n",
    "fig = plt.figure()\n",
    "fig.set_size_inches(16, 12)\n",
    "\n",
    "plt.plot(prob['xpts'][0], prob['ypts'], 'b.')\n",
    "plt.legend(loc='center left', bbox_to_anchor=(0.67, 0.12))\n",
    "\n",
    "plt.title(prob['name'] + \" Noisy\", fontsize=36)\n",
    "plt.savefig(\"img/benchmarks/\" + prob['name'].lower() + \"_noisy.png\", dpi=200)\n",
    "# plt.show()\n"
   ]
  },
  {
   "cell_type": "markdown",
   "metadata": {},
   "source": [
    "### Output json and csv data"
   ]
  },
  {
   "cell_type": "code",
   "execution_count": null,
   "metadata": {
    "collapsed": false
   },
   "outputs": [],
   "source": [
    "data = np.array([prob['xpts'][0], prob['ypts']]).T\n",
    "print data.shape\n",
    "\n",
    "cols = [['x', 'out']]\n",
    "out_data = cols + data.tolist()\n",
    "import json\n",
    "json_out = json.dumps( out_data, indent=4)\n",
    "# print json_out\n",
    "\n",
    "f_json = open(\"data/benchmarks/\" + prob['name'].lower() + \".json\", 'w')\n",
    "f_json.write(json_out)\n",
    "f_json.close()\n",
    "\n",
    "f_csv = open(\"data/benchmarks/\" + prob['name'].lower() + \".csv\", 'w')\n",
    "for row in out_data:\n",
    "    line = \", \".join([str(col) for col in row]) + \"\\n\"\n",
    "    f_csv.write(line)\n",
    "f_csv.close()"
   ]
  }
 ],
 "metadata": {
  "kernelspec": {
   "display_name": "Python 2",
   "language": "python",
   "name": "python2"
  },
  "language_info": {
   "codemirror_mode": {
    "name": "ipython",
    "version": 2
   },
   "file_extension": ".py",
   "mimetype": "text/x-python",
   "name": "python",
   "nbconvert_exporter": "python",
   "pygments_lexer": "ipython2",
   "version": "2.7.10"
  }
 },
 "nbformat": 4,
 "nbformat_minor": 0
}
